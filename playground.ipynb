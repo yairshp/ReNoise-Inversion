{
 "cells": [
  {
   "cell_type": "code",
   "execution_count": null,
   "metadata": {},
   "outputs": [],
   "source": [
    "import os\n",
    "\n",
    "os.environ[\"CUDA_VISIBLE_DEVICES\"] = \"0\""
   ]
  },
  {
   "cell_type": "code",
   "execution_count": 11,
   "metadata": {},
   "outputs": [],
   "source": [
    "from src.eunms import Model_Type, Scheduler_Type\n",
    "from src.utils.enums_utils import get_pipes\n",
    "from src.config import RunConfig\n",
    "\n",
    "from main import run as invert\n",
    "from main import create_noise_list\n",
    "from diffusers.utils import make_image_grid\n",
    "import torch\n",
    "\n",
    "# from ptp_utils import AttentionStore\n",
    "# import ptp_utils\n",
    "from attention_maps_utils_by_timesteps import (\n",
    "    # from attention_maps_utils import (\n",
    "    attn_maps,\n",
    "    cross_attn_init,\n",
    "    register_cross_attention_hook,\n",
    "    set_layer_with_name_and_path,\n",
    "    preprocess,\n",
    "    visualize_and_save_attn_map,\n",
    ")\n",
    "\n",
    "\n",
    "from PIL import Image"
   ]
  },
  {
   "cell_type": "code",
   "execution_count": 12,
   "metadata": {},
   "outputs": [
    {
     "name": "stderr",
     "output_type": "stream",
     "text": [
      "Keyword arguments {'safety_checker': None} are not expected by StableDiffusionXLImg2ImgPipeline and will be ignored.\n",
      "Loading pipeline components...: 100%|███████████████████████████████████████████████████████████████████████████████████████| 7/7 [00:00<00:00, 10.46it/s]\n"
     ]
    }
   ],
   "source": [
    "device = \"cuda\"\n",
    "model_type = Model_Type.SDXL_Turbo\n",
    "scheduler_type = Scheduler_Type.EULER\n",
    "# model_type = Model_Type.SD21model_type = Model_Type.SDXL\n",
    "# model_type = Model_Type.SDXL\n",
    "# scheduler_type = Scheduler_Type.DDIM\n",
    "pipe_inversion, pipe_inference = get_pipes(model_type, scheduler_type, device=device)"
   ]
  },
  {
   "cell_type": "code",
   "execution_count": 13,
   "metadata": {},
   "outputs": [],
   "source": [
    "inputs_images = [\n",
    "    (\n",
    "        Image.open(\"/home/lab/yairshp/projects/insert_object/benchmark/bed.jpeg\")\n",
    "        .convert(\"RGB\")\n",
    "        .resize((512, 512))\n",
    "    ),\n",
    "    Image.open(\"/home/lab/yairshp/projects/insert_object/benchmark/desk.jpeg\")\n",
    "    .convert(\"RGB\")\n",
    "    .resize((512, 512)),\n",
    "    Image.open(\"/home/lab/yairshp/projects/insert_object/benchmark/cabinet.jpeg\")\n",
    "    .convert(\"RGB\")\n",
    "    .resize((512, 512)),\n",
    "    Image.open(\"/home/lab/yairshp/projects/insert_object/benchmark/face.jpg\")\n",
    "    .convert(\"RGB\")\n",
    "    .resize((512, 512)),\n",
    "    # Image.open(\"example_images/lion.jpeg\").convert(\"RGB\").resize((512, 512)),\n",
    "]\n",
    "prompts = [\n",
    "    \"a bed\",\n",
    "    # \"a desk\",\n",
    "    \"a computer monitor\",\n",
    "    # \"a cabinet\",\n",
    "    \"a dresser\",\n",
    "    \"a man\",\n",
    "    # \"a man wearing a grey jacket\",\n",
    "    # \"a photo\",\n",
    "    # \"a photo\",\n",
    "    # \"a photo\",\n",
    "    # \"a photo\",\n",
    "]\n",
    "edit_propmts = [\n",
    "    \"a bed and a pillow\",\n",
    "    # \"a desk and a plant\",\n",
    "    \"a computer monitor and a plant\",\n",
    "    # \"a cabinet and a vase\",\n",
    "    \"a dresser and a vase\",\n",
    "    \"a man and a hat\",\n",
    "    # \"a man wearing a grey jacket and a hat\",\n",
    "    # \"a photo and a pillow\",\n",
    "    # \"a photo and a plant\",\n",
    "    # \"a photo and a vase\",\n",
    "    # \"a photo and a hat\",\n",
    "]\n",
    "\n",
    "# input_image = Image.open(\"example_images/lion.jpeg\").convert(\"RGB\").resize((512, 512))\n",
    "# prompt = \"a lion\"\n",
    "# edit_propmt = \"a lion\"\n",
    "\n",
    "config = RunConfig(\n",
    "    model_type=model_type,\n",
    "    scheduler_type=scheduler_type,\n",
    "    # guidance_scale=1.0,\n",
    "    noise_regularization_lambda_kl=0.05,\n",
    "    noise_regularization_lambda_ac=10,\n",
    "    # inversion_max_step=1,\n",
    "    # num_inversion_steps=50,\n",
    "    # num_inference_steps=50,\n",
    "    # num_renoise_steps=1,\n",
    "    # perform_noise_correction=False,\n",
    ")"
   ]
  },
  {
   "cell_type": "code",
   "execution_count": null,
   "metadata": {},
   "outputs": [],
   "source": [
    "inv_latents = []\n",
    "noises = []\n",
    "for i, (input_image, prompt) in enumerate(zip(inputs_images, prompts)):\n",
    "    edit_img, inv_latent, noise, all_latents = invert(\n",
    "        input_image,\n",
    "        prompt,\n",
    "        config,\n",
    "        pipe_inversion=pipe_inversion,\n",
    "        pipe_inference=pipe_inference,\n",
    "        do_reconstruction=False,\n",
    "    )\n",
    "    inv_latents.append(inv_latent)\n",
    "    noises.append(noise)"
   ]
  },
  {
   "cell_type": "code",
   "execution_count": null,
   "metadata": {},
   "outputs": [],
   "source": [
    "# cross_attn_init()\n",
    "# pipe_inference.unet = set_layer_with_name_and_path(pipe_inference.unet)\n",
    "# pipe_inference.unet = register_cross_attention_hook(pipe_inference.unet)"
   ]
  },
  {
   "cell_type": "code",
   "execution_count": null,
   "metadata": {},
   "outputs": [],
   "source": [
    "img_idx = 0\n",
    "edit_images = []\n",
    "for i, (inv_latent, noise, edit_prompt) in enumerate(\n",
    "    zip(inv_latents, noises, edit_propmts)\n",
    "):\n",
    "    # if not i == img_idx:\n",
    "    #     continue\n",
    "    # generator = torch.Generator().manual_seed(config.seed)\n",
    "    pipe_inference.scheduler.set_noise_list(noise)\n",
    "    pipe_inference.cfg = config\n",
    "    img = pipe_inference(\n",
    "        prompt=edit_prompt,\n",
    "        num_inference_steps=config.num_inference_steps,\n",
    "        negative_prompt=prompt,\n",
    "        image=inv_latent,\n",
    "        strength=config.inversion_max_step,\n",
    "        denoising_start=1.0 - config.inversion_max_step,\n",
    "        guidance_scale=config.guidance_scale,\n",
    "    ).images[0]\n",
    "    edit_images.append(img)"
   ]
  },
  {
   "cell_type": "code",
   "execution_count": null,
   "metadata": {},
   "outputs": [],
   "source": [
    "# for input_image, edit_img in zip(inputs_images, edit_images):\n",
    "# i = 0\n",
    "img_idx = 0\n",
    "make_image_grid([inputs_images[img_idx], edit_images[img_idx]], 1, 2)\n",
    "# make_image_grid([inputs_images[img_idx], edit_images[0]], 1, 2)"
   ]
  },
  {
   "cell_type": "code",
   "execution_count": null,
   "metadata": {},
   "outputs": [],
   "source": [
    "# # attn_map = preprocess(max_height=512, max_width=512)\n",
    "# visualize_and_save_attn_map(attn_map, pipe_inference.tokenizer, edit_propmts[3])\n",
    "from attention_maps_utils_by_timesteps import get_attn_maps\n",
    "\n",
    "attn_maps = get_attn_maps()"
   ]
  },
  {
   "cell_type": "code",
   "execution_count": null,
   "metadata": {},
   "outputs": [],
   "source": [
    "timestep = 3\n",
    "attn_map = preprocess(attn_maps[timestep], 512, 512)\n",
    "attn_map_img = visualize_and_save_attn_map(\n",
    "    attn_map,\n",
    "    pipe_inference.tokenizer,\n",
    "    edit_propmts[img_idx],\n",
    "    edit_propmts[img_idx].split()[-1],\n",
    ")"
   ]
  },
  {
   "cell_type": "code",
   "execution_count": null,
   "metadata": {},
   "outputs": [],
   "source": [
    "attn_map_img"
   ]
  },
  {
   "cell_type": "code",
   "execution_count": null,
   "metadata": {},
   "outputs": [],
   "source": [
    "import numpy as np\n",
    "\n",
    "attn_map_arr = np.array(attn_map_img)"
   ]
  },
  {
   "cell_type": "code",
   "execution_count": null,
   "metadata": {},
   "outputs": [],
   "source": [
    "max_index = np.argmax(attn_map_arr)\n",
    "max_x = max_index % attn_map_arr.shape[1]\n",
    "max_y = max_index // attn_map_arr.shape[1]\n",
    "print(\"Max Value Coordinates: x =\", max_x, \", y =\", max_y)"
   ]
  },
  {
   "cell_type": "code",
   "execution_count": null,
   "metadata": {},
   "outputs": [],
   "source": [
    "import torch\n",
    "from PIL import Image\n",
    "from transformers import SamModel, SamProcessor\n",
    "\n",
    "device = \"cuda\" if torch.cuda.is_available() else \"cpu\"\n",
    "model = SamModel.from_pretrained(\"facebook/sam-vit-huge\").to(device)\n",
    "processor = SamProcessor.from_pretrained(\"facebook/sam-vit-huge\")\n",
    "\n",
    "# img_url = \"https://huggingface.co/ybelkada/segment-anything/resolve/main/assets/car.png\"\n",
    "# raw_image = Image.open(requests.get(img_url, stream=True).raw).convert(\"RGB\")\n",
    "input_points = [[[max_x, max_y]]]  # 2D location of a window in the image\n",
    "\n",
    "inputs = processor(edit_images, input_points=input_points, return_tensors=\"pt\").to(\n",
    "    device\n",
    ")\n",
    "with torch.no_grad():\n",
    "    outputs = model(**inputs)\n",
    "\n",
    "masks = processor.image_processor.post_process_masks(\n",
    "    outputs.pred_masks.cpu(),\n",
    "    inputs[\"original_sizes\"].cpu(),\n",
    "    inputs[\"reshaped_input_sizes\"].cpu(),\n",
    ")\n",
    "scores = outputs.iou_scores"
   ]
  },
  {
   "cell_type": "code",
   "execution_count": null,
   "metadata": {},
   "outputs": [],
   "source": [
    "masks = masks[0].squeeze().numpy()"
   ]
  },
  {
   "cell_type": "code",
   "execution_count": null,
   "metadata": {},
   "outputs": [],
   "source": [
    "masks.shape"
   ]
  },
  {
   "cell_type": "code",
   "execution_count": null,
   "metadata": {},
   "outputs": [],
   "source": [
    "from PIL import Image\n",
    "\n",
    "mask_images = []\n",
    "for mask in masks:\n",
    "    mask_image = Image.fromarray(mask.astype(\"uint8\") * 255)\n",
    "    mask_images.append(mask_image)"
   ]
  },
  {
   "cell_type": "code",
   "execution_count": null,
   "metadata": {},
   "outputs": [],
   "source": [
    "mask_images[0]"
   ]
  },
  {
   "cell_type": "code",
   "execution_count": null,
   "metadata": {},
   "outputs": [],
   "source": [
    "import numpy as np\n",
    "from PIL import Image\n",
    "\n",
    "# Convert the image and mask to numpy arrays\n",
    "image_np = np.array(inputs_images[img_idx])\n",
    "mask_np = np.array(mask_images[0])\n",
    "\n",
    "# Create a copy of the image\n",
    "masked_image_np = np.copy(image_np)\n",
    "\n",
    "# Set the pixels inside the mask to red\n",
    "masked_image_np[mask_np == 255] = [255, 0, 0]  # Set RGB values to [255, 0, 0] for red\n",
    "\n",
    "# Create a PIL Image from the numpy array\n",
    "masked_image = Image.fromarray(masked_image_np)\n",
    "\n",
    "# Display the masked image\n",
    "masked_image"
   ]
  },
  {
   "cell_type": "code",
   "execution_count": null,
   "metadata": {},
   "outputs": [],
   "source": [
    "from PIL import Image\n",
    "import requests\n",
    "from transformers import Blip2Processor, Blip2ForConditionalGeneration\n",
    "import torch\n",
    "\n",
    "device = \"cuda\" if torch.cuda.is_available() else \"cpu\"\n",
    "\n",
    "processor = Blip2Processor.from_pretrained(\"Salesforce/blip2-opt-2.7b\")\n",
    "model = Blip2ForConditionalGeneration.from_pretrained(\n",
    "    \"Salesforce/blip2-opt-2.7b\", torch_dtype=torch.float16\n",
    ").to(\n",
    "    device\n",
    ")  # doctest: +IGNORE_RESULT"
   ]
  },
  {
   "cell_type": "code",
   "execution_count": null,
   "metadata": {},
   "outputs": [],
   "source": [
    "images = [\n",
    "    (\n",
    "        Image.open(\"/home/lab/yairshp/projects/insert_object/benchmark/bed.jpeg\")\n",
    "        .convert(\"RGB\")\n",
    "        .resize((512, 512))\n",
    "    ),\n",
    "    Image.open(\"/home/lab/yairshp/projects/insert_object/benchmark/desk.jpeg\")\n",
    "    .convert(\"RGB\")\n",
    "    .resize((512, 512)),\n",
    "    Image.open(\"/home/lab/yairshp/projects/insert_object/benchmark/cabinet.jpeg\")\n",
    "    .convert(\"RGB\")\n",
    "    .resize((512, 512)),\n",
    "    Image.open(\"/home/lab/yairshp/projects/insert_object/benchmark/face.jpg\")\n",
    "    .convert(\"RGB\")\n",
    "    .resize((512, 512)),\n",
    "]\n",
    "\n",
    "object_images = [\n",
    "    Image.open(\"/home/lab/yairshp/projects/insert_object/benchmark/objects/hat/hat.png\")\n",
    "    .convert(\"RGB\")\n",
    "    .resize((512, 512)),\n",
    "    Image.open(\n",
    "        \"/home/lab/yairshp/projects/insert_object/benchmark/objects/vase/vase.jpeg\"\n",
    "    )\n",
    "    .convert(\"RGB\")\n",
    "    .resize((512, 512)),\n",
    "]"
   ]
  },
  {
   "cell_type": "code",
   "execution_count": null,
   "metadata": {},
   "outputs": [],
   "source": [
    "sentences = []\n",
    "# for img in object_images:\n",
    "# for img in images:\n",
    "prompt = \"Question: what object is in this image (in one word)? Answer:\"\n",
    "inputs = processor(\n",
    "    images=object_images,\n",
    "    text=[prompt for i in range(len(object_images))],\n",
    "    return_tensors=\"pt\",\n",
    ").to(\n",
    "    # inputs = processor(images=img, text=prompt, return_tensors=\"pt\").to(\n",
    "    device=\"cuda\",\n",
    "    dtype=torch.float16,\n",
    ")\n",
    "\n",
    "generated_ids = model.generate(**inputs)\n",
    "generated_texts = processor.batch_decode(generated_ids, skip_special_tokens=True)\n",
    "for generated_text in generated_texts:\n",
    "    # strip generated text from both spaces and end of line characters\n",
    "    generated_text = generated_text.strip().replace(\"\\n\", \"\")\n",
    "    print(generated_text)\n",
    "    sentences.append(generated_text)"
   ]
  },
  {
   "cell_type": "code",
   "execution_count": null,
   "metadata": {},
   "outputs": [],
   "source": [
    "import spacy\n",
    "\n",
    "nlp = spacy.load(\"en_core_web_sm\")\n",
    "\n",
    "for sentence in sentences:\n",
    "    doc = nlp(sentence)\n",
    "    sents = list(doc.sents)\n",
    "    nouns = []\n",
    "    for token in doc:\n",
    "        if token.pos_ != \"NOUN\":\n",
    "            continue\n",
    "        # if token.dep_ == \"compound\":\n",
    "        nouns.append(token.text)\n",
    "    print(\" \".join(nouns))"
   ]
  },
  {
   "cell_type": "code",
   "execution_count": 1,
   "metadata": {},
   "outputs": [],
   "source": [
    "import os\n",
    "\n",
    "os.environ[\"CUDA_VISIBLE_DEVICES\"] = \"0\""
   ]
  },
  {
   "cell_type": "code",
   "execution_count": 2,
   "metadata": {},
   "outputs": [
    {
     "name": "stderr",
     "output_type": "stream",
     "text": [
      "/cortex/users/yairshp/miniconda3/envs/renoise_inversion/lib/python3.11/site-packages/tqdm/auto.py:21: TqdmWarning: IProgress not found. Please update jupyter and ipywidgets. See https://ipywidgets.readthedocs.io/en/stable/user_install.html\n",
      "  from .autonotebook import tqdm as notebook_tqdm\n",
      "/cortex/users/yairshp/miniconda3/envs/renoise_inversion/lib/python3.11/site-packages/transformers/utils/generic.py:441: UserWarning: torch.utils._pytree._register_pytree_node is deprecated. Please use torch.utils._pytree.register_pytree_node instead.\n",
      "  _torch_pytree._register_pytree_node(\n",
      "/cortex/users/yairshp/miniconda3/envs/renoise_inversion/lib/python3.11/site-packages/transformers/utils/generic.py:309: UserWarning: torch.utils._pytree._register_pytree_node is deprecated. Please use torch.utils._pytree.register_pytree_node instead.\n",
      "  _torch_pytree._register_pytree_node(\n",
      "/cortex/users/yairshp/miniconda3/envs/renoise_inversion/lib/python3.11/site-packages/transformers/utils/generic.py:309: UserWarning: torch.utils._pytree._register_pytree_node is deprecated. Please use torch.utils._pytree.register_pytree_node instead.\n",
      "  _torch_pytree._register_pytree_node(\n",
      "/cortex/users/yairshp/miniconda3/envs/renoise_inversion/lib/python3.11/site-packages/diffusers/utils/outputs.py:63: UserWarning: torch.utils._pytree._register_pytree_node is deprecated. Please use torch.utils._pytree.register_pytree_node instead.\n",
      "  torch.utils._pytree._register_pytree_node(\n",
      "Loading pipeline components...:  86%|████████▌ | 6/7 [00:03<00:00,  1.80it/s]/cortex/users/yairshp/miniconda3/envs/renoise_inversion/lib/python3.11/site-packages/diffusers/utils/outputs.py:63: UserWarning: torch.utils._pytree._register_pytree_node is deprecated. Please use torch.utils._pytree.register_pytree_node instead.\n",
      "  torch.utils._pytree._register_pytree_node(\n",
      "Loading pipeline components...: 100%|██████████| 7/7 [00:04<00:00,  1.68it/s]\n"
     ]
    },
    {
     "data": {
      "text/plain": [
       "StableDiffusionXLPipeline {\n",
       "  \"_class_name\": \"StableDiffusionXLPipeline\",\n",
       "  \"_diffusers_version\": \"0.24.0\",\n",
       "  \"_name_or_path\": \"stabilityai/stable-diffusion-xl-base-1.0\",\n",
       "  \"feature_extractor\": [\n",
       "    null,\n",
       "    null\n",
       "  ],\n",
       "  \"force_zeros_for_empty_prompt\": true,\n",
       "  \"image_encoder\": [\n",
       "    null,\n",
       "    null\n",
       "  ],\n",
       "  \"scheduler\": [\n",
       "    \"diffusers\",\n",
       "    \"EulerDiscreteScheduler\"\n",
       "  ],\n",
       "  \"text_encoder\": [\n",
       "    \"transformers\",\n",
       "    \"CLIPTextModel\"\n",
       "  ],\n",
       "  \"text_encoder_2\": [\n",
       "    \"transformers\",\n",
       "    \"CLIPTextModelWithProjection\"\n",
       "  ],\n",
       "  \"tokenizer\": [\n",
       "    \"transformers\",\n",
       "    \"CLIPTokenizer\"\n",
       "  ],\n",
       "  \"tokenizer_2\": [\n",
       "    \"transformers\",\n",
       "    \"CLIPTokenizer\"\n",
       "  ],\n",
       "  \"unet\": [\n",
       "    \"diffusers\",\n",
       "    \"UNet2DConditionModel\"\n",
       "  ],\n",
       "  \"vae\": [\n",
       "    \"diffusers\",\n",
       "    \"AutoencoderKL\"\n",
       "  ]\n",
       "}"
      ]
     },
     "execution_count": 2,
     "metadata": {},
     "output_type": "execute_result"
    }
   ],
   "source": [
    "import torch\n",
    "\n",
    "from diffusers import StableDiffusionXLPipeline\n",
    "\n",
    "# from stable_diffusion_xl_return_latents import StableDiffusionXLPipeline\n",
    "from diffusers import AutoPipelineForText2Image\n",
    "\n",
    "pipe = StableDiffusionXLPipeline.from_pretrained(\n",
    "    \"stabilityai/stable-diffusion-xl-base-1.0\",\n",
    "    # torch_dtype=torch.float16,\n",
    "    # \"stabilityai/sdxl-turbo\",\n",
    "    torch_dtype=torch.float16,\n",
    ")\n",
    "# pipe = AutoPipelineForText2Image.from_pretrained(\n",
    "#     \"stabilityai/sdxl-turbo\",\n",
    "#     torch_dtype=torch.float16,\n",
    "#     variant=\"fp16\",\n",
    "# )\n",
    "pipe.to(\"cuda\")"
   ]
  },
  {
   "cell_type": "code",
   "execution_count": 6,
   "metadata": {},
   "outputs": [
    {
     "name": "stderr",
     "output_type": "stream",
     "text": [
      "  0%|          | 0/50 [00:00<?, ?it/s]"
     ]
    },
    {
     "name": "stderr",
     "output_type": "stream",
     "text": [
      "100%|██████████| 50/50 [00:12<00:00,  3.92it/s]\n",
      "100%|██████████| 50/50 [00:12<00:00,  3.90it/s]\n",
      "100%|██████████| 50/50 [00:12<00:00,  3.88it/s]\n",
      "100%|██████████| 50/50 [00:12<00:00,  3.89it/s]\n",
      "100%|██████████| 50/50 [00:12<00:00,  3.88it/s]\n",
      "100%|██████████| 50/50 [00:12<00:00,  3.88it/s]\n"
     ]
    }
   ],
   "source": [
    "# prompts = [\n",
    "#     # \"A hotel bed ready for use\",\n",
    "#     # \"A skier quickly going down an empty hill\",\n",
    "#     # \"a bench in a park\",\n",
    "#     # \"a kitchen with a stove and a sink\",\n",
    "#     \"A line of snowboarders in the woods\",\n",
    "#     # \"A bike leaning against a brown rack with a tree in the background\",\n",
    "#     # \"A stop sign in a dirt road\",\n",
    "#     # \"A small and clean bathroom\",\n",
    "#     # \"A laptop and some books on a desk\",\n",
    "#     # \"A cow graze on a mountain overlooking a city\",\n",
    "#     # \"A marina with white sailboats in front of a small town of buildings and homes that border a forest behind them\",\n",
    "#     # \"A person jumps in a field of wheat trying to reach a fribee hurtling above him\",\n",
    "#     # \"\",\n",
    "#     # \"\",\n",
    "# ]\n",
    "prompts = [\n",
    "    \"A skier quickly going down an empty hill\",\n",
    "    \"A stop sign in a dirt road\",\n",
    "    # \"a bench in a park\",\n",
    "    \"A red vintage car parked on a cliff overlooking a vast canyon landscape\",\n",
    "    \"A picnic basket and a blanket laid out on a grassy hillside\",\n",
    "    \"A kite soaring high against the backdrop of a cloudy sky, with a child running across an open field below\",\n",
    "    \"A camping tent pitched in a lush forest clearing, with towering redwood trees surrounding the site\",\n",
    "    \"A hammock suspended between two palm trees on a white sandy beach, with crystal-clear turquoise waters in the background\",\n",
    "    \"A parasol in the beach\",\n",
    "]\n",
    "\n",
    "# output, init_latents = pipe(prompt, num_inference_steps=4)\n",
    "for prompt in prompts:\n",
    "    image = pipe(\n",
    "        prompt=f\"{prompt}\",\n",
    "        # num_inference_steps=2,\n",
    "        # guidance_scale=7.5,\n",
    "        # guidance_scale=0.0,\n",
    "    ).images[0]\n",
    "    image.save(f\"example_images/generated_2/{prompt}.png\")"
   ]
  },
  {
   "cell_type": "code",
   "execution_count": null,
   "metadata": {},
   "outputs": [],
   "source": []
  }
 ],
 "metadata": {
  "kernelspec": {
   "display_name": "Python 3 (ipykernel)",
   "language": "python",
   "name": "python3"
  },
  "language_info": {
   "codemirror_mode": {
    "name": "ipython",
    "version": 3
   },
   "file_extension": ".py",
   "mimetype": "text/x-python",
   "name": "python",
   "nbconvert_exporter": "python",
   "pygments_lexer": "ipython3",
   "version": "3.11.9"
  }
 },
 "nbformat": 4,
 "nbformat_minor": 4
}
