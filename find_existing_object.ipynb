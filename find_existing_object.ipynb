{
 "cells": [
  {
   "cell_type": "code",
   "execution_count": 1,
   "metadata": {},
   "outputs": [],
   "source": [
    "import os\n",
    "\n",
    "os.environ[\"CUDA_VISIBLE_DEVICES\"] = \"1\""
   ]
  },
  {
   "cell_type": "code",
   "execution_count": 2,
   "metadata": {},
   "outputs": [
    {
     "name": "stderr",
     "output_type": "stream",
     "text": [
      "/cortex/users/yairshp/miniconda3/envs/renoise_inversion/lib/python3.11/site-packages/tqdm/auto.py:21: TqdmWarning: IProgress not found. Please update jupyter and ipywidgets. See https://ipywidgets.readthedocs.io/en/stable/user_install.html\n",
      "  from .autonotebook import tqdm as notebook_tqdm\n",
      "/cortex/users/yairshp/miniconda3/envs/renoise_inversion/lib/python3.11/site-packages/transformers/utils/generic.py:441: UserWarning: torch.utils._pytree._register_pytree_node is deprecated. Please use torch.utils._pytree.register_pytree_node instead.\n",
      "  _torch_pytree._register_pytree_node(\n",
      "/cortex/users/yairshp/miniconda3/envs/renoise_inversion/lib/python3.11/site-packages/transformers/utils/generic.py:309: UserWarning: torch.utils._pytree._register_pytree_node is deprecated. Please use torch.utils._pytree.register_pytree_node instead.\n",
      "  _torch_pytree._register_pytree_node(\n",
      "/cortex/users/yairshp/miniconda3/envs/renoise_inversion/lib/python3.11/site-packages/transformers/utils/generic.py:309: UserWarning: torch.utils._pytree._register_pytree_node is deprecated. Please use torch.utils._pytree.register_pytree_node instead.\n",
      "  _torch_pytree._register_pytree_node(\n",
      "/cortex/users/yairshp/miniconda3/envs/renoise_inversion/lib/python3.11/site-packages/diffusers/utils/outputs.py:63: UserWarning: torch.utils._pytree._register_pytree_node is deprecated. Please use torch.utils._pytree.register_pytree_node instead.\n",
      "  torch.utils._pytree._register_pytree_node(\n"
     ]
    }
   ],
   "source": [
    "import spacy\n",
    "import torch\n",
    "import torch.nn.functional as F\n",
    "import numpy as np\n",
    "import pandas as pd\n",
    "from diffusers.utils import make_image_grid\n",
    "from transformers import (\n",
    "    SamModel,\n",
    "    SamProcessor,\n",
    "    Blip2Processor,\n",
    "    Blip2ForConditionalGeneration,\n",
    "    AutoProcessor,\n",
    "    LlavaForConditionalGeneration,\n",
    ")\n",
    "from PIL import Image\n",
    "\n",
    "from src.eunms import Model_Type, Scheduler_Type\n",
    "from src.utils.enums_utils import get_pipes\n",
    "from src.config import RunConfig\n",
    "from main import run as invert\n",
    "\n",
    "from attention_maps_utils_by_timesteps import (\n",
    "    get_attn_maps,\n",
    "    cross_attn_init,\n",
    "    register_cross_attention_hook,\n",
    "    set_layer_with_name_and_path,\n",
    "    # preprocess,\n",
    "    # visualize_and_save_attn_map,\n",
    ")"
   ]
  },
  {
   "cell_type": "code",
   "execution_count": 3,
   "metadata": {},
   "outputs": [
    {
     "name": "stderr",
     "output_type": "stream",
     "text": [
      "Keyword arguments {'safety_checker': None} are not expected by StableDiffusionXLImg2ImgPipeline and will be ignored.\n",
      "Loading pipeline components...:  29%|██▊       | 2/7 [00:00<00:00,  9.26it/s]/cortex/users/yairshp/miniconda3/envs/renoise_inversion/lib/python3.11/site-packages/diffusers/utils/outputs.py:63: UserWarning: torch.utils._pytree._register_pytree_node is deprecated. Please use torch.utils._pytree.register_pytree_node instead.\n",
      "  torch.utils._pytree._register_pytree_node(\n",
      "Loading pipeline components...: 100%|██████████| 7/7 [00:01<00:00,  6.14it/s]\n"
     ]
    }
   ],
   "source": [
    "device = \"cuda\" if torch.cuda.is_available() else \"cpu\"\n",
    "model_type = Model_Type.SDXL_Turbo\n",
    "scheduler_type = Scheduler_Type.EULER\n",
    "pipe_inversion, pipe_inference = get_pipes(model_type, scheduler_type, device=device)"
   ]
  },
  {
   "cell_type": "code",
   "execution_count": 4,
   "metadata": {},
   "outputs": [],
   "source": [
    "config = RunConfig(\n",
    "    model_type=model_type,\n",
    "    scheduler_type=scheduler_type,\n",
    "    noise_regularization_lambda_kl=0.055,\n",
    "    noise_regularization_lambda_ac=10,\n",
    "    num_inversion_steps=4,\n",
    "    num_inference_steps=4,\n",
    ")"
   ]
  },
  {
   "cell_type": "code",
   "execution_count": 5,
   "metadata": {},
   "outputs": [],
   "source": [
    "data_path = (\n",
    "    \"/home/lab/yairshp/projects/insert_object/benchmark/object_placement_images.csv\"\n",
    ")\n",
    "data = pd.read_csv(data_path, dtype={\"bg_img_id\": str, \"ref_img_id\": str})\n",
    "open_images_path = \"/cortex/data/images/OpenImagesV6/images\"\n",
    "cocoee_path = \"/cortex/data/images/COCOEE/test_bench/Ref_3500\"\n",
    "\n",
    "# open_images dataset is used for bg_images. add a column of the path to the image (the path is the <open_images_path>/<image_id>.jpg)\n",
    "data[\"bg_img_path\"] = data[\"bg_img_id\"].apply(lambda x: f\"{open_images_path}/{x}.jpg\")\n",
    "\n",
    "# cocoee dataset is used for ref_images. add a column of the path to the image (the path is the <cocoee_path>/<image_id>_ref.png)\n",
    "data[\"ref_img_path\"] = data[\"ref_img_id\"].apply(lambda x: f\"{cocoee_path}/{x}_ref.png\")"
   ]
  },
  {
   "cell_type": "code",
   "execution_count": 6,
   "metadata": {},
   "outputs": [],
   "source": [
    "my_bg_images = [\n",
    "    \"/home/lab/yairshp/projects/insert_object/benchmark/bed.jpeg\",\n",
    "    \"/home/lab/yairshp/projects/insert_object/benchmark/desk.jpeg\",\n",
    "    \"/home/lab/yairshp/projects/insert_object/benchmark/cabinet.jpeg\",\n",
    "    \"/home/lab/yairshp/projects/insert_object/benchmark/face.jpg\",\n",
    "]\n",
    "\n",
    "my_object_images = [\n",
    "    \"/home/lab/yairshp/projects/insert_object/benchmark/objects/pillow/pillow.jpeg\",\n",
    "    \"/home/lab/yairshp/projects/insert_object/benchmark/objects/plant/plant.jpg\",\n",
    "    \"/home/lab/yairshp/projects/insert_object/benchmark/objects/vase/vase.jpeg\",\n",
    "    \"/home/lab/yairshp/projects/insert_object/benchmark/objects/hat/hat.png\",\n",
    "]"
   ]
  },
  {
   "cell_type": "code",
   "execution_count": 7,
   "metadata": {},
   "outputs": [],
   "source": [
    "bg_images = list(data[\"bg_img_path\"])\n",
    "bg_images.extend(my_bg_images)\n",
    "ref_images = list(data[\"ref_img_path\"])\n",
    "ref_images.extend(my_object_images)"
   ]
  },
  {
   "cell_type": "code",
   "execution_count": 8,
   "metadata": {},
   "outputs": [],
   "source": [
    "def preprocess_image(image_path):\n",
    "    image = Image.open(image_path)\n",
    "    return image.convert(\"RGB\").resize((512, 512))\n",
    "\n",
    "\n",
    "bg_images = [preprocess_image(image) for image in bg_images]\n",
    "ref_images = [preprocess_image(image) for image in ref_images]"
   ]
  },
  {
   "cell_type": "code",
   "execution_count": 9,
   "metadata": {},
   "outputs": [],
   "source": [
    "def invert_images(images, prompts):\n",
    "    inv_latents = []\n",
    "    noises = []\n",
    "    for image, prompt in zip(images, prompts):\n",
    "        _, inv_latent, noise, _ = invert(\n",
    "            image,\n",
    "            prompt,\n",
    "            config,\n",
    "            pipe_inversion=pipe_inversion,\n",
    "            pipe_inference=pipe_inference,\n",
    "            do_reconstruction=False,\n",
    "        )\n",
    "        inv_latents.append(inv_latent)\n",
    "        noises.append(noise)\n",
    "    return inv_latents, noises"
   ]
  },
  {
   "cell_type": "code",
   "execution_count": 10,
   "metadata": {},
   "outputs": [],
   "source": [
    "inversion_prompts = [\"an image\" for _ in range(len(bg_images))]"
   ]
  },
  {
   "cell_type": "code",
   "execution_count": 11,
   "metadata": {},
   "outputs": [
    {
     "name": "stdout",
     "output_type": "stream",
     "text": [
      "Inverting...\n"
     ]
    },
    {
     "name": "stderr",
     "output_type": "stream",
     "text": [
      "100%|██████████| 4/4 [00:04<00:00,  1.12s/it]\n"
     ]
    },
    {
     "name": "stdout",
     "output_type": "stream",
     "text": [
      "Inverting...\n"
     ]
    },
    {
     "name": "stderr",
     "output_type": "stream",
     "text": [
      "100%|██████████| 4/4 [00:04<00:00,  1.07s/it]\n"
     ]
    },
    {
     "name": "stdout",
     "output_type": "stream",
     "text": [
      "Inverting...\n"
     ]
    },
    {
     "name": "stderr",
     "output_type": "stream",
     "text": [
      "100%|██████████| 4/4 [00:04<00:00,  1.08s/it]\n"
     ]
    },
    {
     "name": "stdout",
     "output_type": "stream",
     "text": [
      "Inverting...\n"
     ]
    },
    {
     "name": "stderr",
     "output_type": "stream",
     "text": [
      "100%|██████████| 4/4 [00:04<00:00,  1.04s/it]\n"
     ]
    },
    {
     "name": "stdout",
     "output_type": "stream",
     "text": [
      "Inverting...\n"
     ]
    },
    {
     "name": "stderr",
     "output_type": "stream",
     "text": [
      "100%|██████████| 4/4 [00:03<00:00,  1.02it/s]\n"
     ]
    },
    {
     "name": "stdout",
     "output_type": "stream",
     "text": [
      "Inverting...\n"
     ]
    },
    {
     "name": "stderr",
     "output_type": "stream",
     "text": [
      "100%|██████████| 4/4 [00:03<00:00,  1.03it/s]\n"
     ]
    },
    {
     "name": "stdout",
     "output_type": "stream",
     "text": [
      "Inverting...\n"
     ]
    },
    {
     "name": "stderr",
     "output_type": "stream",
     "text": [
      "100%|██████████| 4/4 [00:03<00:00,  1.02it/s]\n"
     ]
    },
    {
     "name": "stdout",
     "output_type": "stream",
     "text": [
      "Inverting...\n"
     ]
    },
    {
     "name": "stderr",
     "output_type": "stream",
     "text": [
      "100%|██████████| 4/4 [00:03<00:00,  1.03it/s]\n"
     ]
    },
    {
     "name": "stdout",
     "output_type": "stream",
     "text": [
      "Inverting...\n"
     ]
    },
    {
     "name": "stderr",
     "output_type": "stream",
     "text": [
      "100%|██████████| 4/4 [00:03<00:00,  1.03it/s]\n"
     ]
    },
    {
     "name": "stdout",
     "output_type": "stream",
     "text": [
      "Inverting...\n"
     ]
    },
    {
     "name": "stderr",
     "output_type": "stream",
     "text": [
      "100%|██████████| 4/4 [00:03<00:00,  1.04it/s]\n"
     ]
    },
    {
     "name": "stdout",
     "output_type": "stream",
     "text": [
      "Inverting...\n"
     ]
    },
    {
     "name": "stderr",
     "output_type": "stream",
     "text": [
      "100%|██████████| 4/4 [00:03<00:00,  1.03it/s]\n"
     ]
    },
    {
     "name": "stdout",
     "output_type": "stream",
     "text": [
      "Inverting...\n"
     ]
    },
    {
     "name": "stderr",
     "output_type": "stream",
     "text": [
      "100%|██████████| 4/4 [00:03<00:00,  1.03it/s]\n"
     ]
    },
    {
     "name": "stdout",
     "output_type": "stream",
     "text": [
      "Inverting...\n"
     ]
    },
    {
     "name": "stderr",
     "output_type": "stream",
     "text": [
      "100%|██████████| 4/4 [00:03<00:00,  1.03it/s]\n"
     ]
    },
    {
     "name": "stdout",
     "output_type": "stream",
     "text": [
      "Inverting...\n"
     ]
    },
    {
     "name": "stderr",
     "output_type": "stream",
     "text": [
      "100%|██████████| 4/4 [00:03<00:00,  1.03it/s]\n"
     ]
    },
    {
     "name": "stdout",
     "output_type": "stream",
     "text": [
      "Inverting...\n"
     ]
    },
    {
     "name": "stderr",
     "output_type": "stream",
     "text": [
      "100%|██████████| 4/4 [00:03<00:00,  1.01it/s]\n"
     ]
    },
    {
     "name": "stdout",
     "output_type": "stream",
     "text": [
      "Inverting...\n"
     ]
    },
    {
     "name": "stderr",
     "output_type": "stream",
     "text": [
      "100%|██████████| 4/4 [00:03<00:00,  1.02it/s]\n"
     ]
    }
   ],
   "source": [
    "inv_latents, noises = invert_images(bg_images, inversion_prompts)"
   ]
  },
  {
   "cell_type": "code",
   "execution_count": 12,
   "metadata": {},
   "outputs": [],
   "source": [
    "cross_attn_init()\n",
    "pipe_inference.unet = set_layer_with_name_and_path(pipe_inference.unet)\n",
    "pipe_inference.unet = register_cross_attention_hook(pipe_inference.unet)"
   ]
  },
  {
   "cell_type": "code",
   "execution_count": 13,
   "metadata": {},
   "outputs": [],
   "source": [
    "def prompt2tokens(tokenizer, prompt):\n",
    "    text_inputs = tokenizer(\n",
    "        prompt,\n",
    "        padding=\"max_length\",\n",
    "        max_length=tokenizer.model_max_length,\n",
    "        truncation=True,\n",
    "        return_tensors=\"pt\",\n",
    "    )\n",
    "    text_input_ids = text_inputs.input_ids\n",
    "    tokens = []\n",
    "    for text_input_id in text_input_ids[0]:\n",
    "        token = tokenizer.decoder[text_input_id.item()]\n",
    "        tokens.append(token)\n",
    "    return tokens\n",
    "\n",
    "\n",
    "def visualize_and_save_attn_map(attn_map, tokenizer, prompt):\n",
    "    # match with tokens\n",
    "    tokens = prompt2tokens(tokenizer, prompt)\n",
    "    bos_token = tokenizer.bos_token\n",
    "    eos_token = tokenizer.eos_token\n",
    "    pad_token = tokenizer.pad_token\n",
    "    save_path = \"attn_maps\"\n",
    "    if not os.path.exists(save_path):\n",
    "        os.mkdir(save_path)\n",
    "\n",
    "    # to_pil = transforms.ToPILImage()\n",
    "    for i, (token, token_attn_map) in enumerate(zip(tokens, attn_map)):\n",
    "        if token != eos_token:\n",
    "            continue\n",
    "        token = token.replace(\"</w>\", \"\")\n",
    "        token = f\"{i}_<{token}>.jpg\"\n",
    "\n",
    "        # low quality\n",
    "        # to_pil(255 * token_attn_map).save(os.path.join(save_path, token))\n",
    "        # to_pil(255 * (token_attn_map - torch.min(token_attn_map)) / (torch.max(token_attn_map) - torch.min(token_attn_map))).save(os.path.join(save_path, token))\n",
    "\n",
    "        token_attn_map = token_attn_map.cpu().numpy()\n",
    "        normalized_token_attn_map = (\n",
    "            (token_attn_map - np.min(token_attn_map))\n",
    "            / (np.max(token_attn_map) - np.min(token_attn_map))\n",
    "            * 255\n",
    "        )\n",
    "        normalized_token_attn_map = normalized_token_attn_map.astype(np.uint8)\n",
    "        image = Image.fromarray(normalized_token_attn_map)\n",
    "        # image.save(os.path.join(save_path, token))\n",
    "        return image"
   ]
  },
  {
   "cell_type": "code",
   "execution_count": 17,
   "metadata": {},
   "outputs": [],
   "source": [
    "def process_attn_map(timestep_attn_maps, tokenizer, prompt):\n",
    "    # max_height, max_width = 0, 0\n",
    "    preprocessed_attn_maps = {}\n",
    "    for k, v in timestep_attn_maps.items():\n",
    "        v = torch.mean(v.cpu(), axis=0).squeeze(0)\n",
    "        if v.shape[-1] != 16:\n",
    "            continue\n",
    "        # if len(v.shape) == 3:\n",
    "        #     _, h, w = v.shape\n",
    "        # else:\n",
    "        #     h, w = v.shape\n",
    "        # max_height = max(h, max_height)\n",
    "        # max_width = max(w, max_width)\n",
    "        # v = F.interpolate(\n",
    "        #     v.to(dtype=torch.float32).unsqueeze(0),\n",
    "        #     size=(max_height, max_width),\n",
    "        #     mode=\"bilinear\",\n",
    "        #     align_corners=False,\n",
    "        # ).squeeze(\n",
    "        #     0\n",
    "        # )  # (77,64,64)\n",
    "        preprocessed_attn_maps[k] = v\n",
    "        # attn_maps[k] = v\n",
    "\n",
    "    attn_map = torch.stack(list(preprocessed_attn_maps.values()), axis=0)\n",
    "    attn_map = torch.mean(attn_map, axis=0)\n",
    "\n",
    "    tokens = prompt2tokens(tokenizer, prompt)\n",
    "    eos_token = tokenizer.eos_token\n",
    "    for token, token_attn_map in zip(tokens, attn_map):\n",
    "        if token != eos_token:\n",
    "            continue\n",
    "        return token_attn_map\n",
    "\n",
    "    # return attn_map\n",
    "\n",
    "\n",
    "def get_attn_map(edit_prompt, tokenizer):\n",
    "    attn_maps = get_attn_maps()\n",
    "    attn_map = process_attn_map(attn_maps[-1], tokenizer, edit_prompt)\n",
    "    return attn_map\n",
    "    # attn_maps_images = []\n",
    "    # for attn_map in attn_maps:\n",
    "    #     attn_map = preprocess(attn_map, 512, 512)\n",
    "    #     attn_map_img = visualize_and_save_attn_map(\n",
    "    #         attn_map, pipe_inference.tokenizer, edit_prompt\n",
    "    #     )\n",
    "    #     attn_maps_images.append(attn_map_img)\n",
    "    # return attn_maps_images\n",
    "\n",
    "\n",
    "def reset_attn_maps():\n",
    "    attn_maps = get_attn_maps()\n",
    "    attn_maps.clear()\n",
    "\n",
    "\n",
    "def get_edit_images_and_attn_maps(inv_latents, noises, inversion_prompts, edit_prompts):\n",
    "    edit_images = []\n",
    "    per_timestep_attn_maps = []\n",
    "    for inv_latent, noise, inversion_prompt, edit_prompt in zip(\n",
    "        inv_latents, noises, inversion_prompts, edit_prompts\n",
    "    ):\n",
    "        pipe_inference.scheduler.set_noise_list(noise)\n",
    "        pipe_inference.cfg = config\n",
    "        edit_image = pipe_inference(\n",
    "            prompt=edit_prompt,\n",
    "            num_inference_steps=config.num_inference_steps,\n",
    "            negative_prompt=inversion_prompt,\n",
    "            image=inv_latent,\n",
    "            strength=config.inversion_max_step,\n",
    "            denoising_start=1.0 - config.inversion_max_step,\n",
    "            guidance_scale=config.guidance_scale,\n",
    "        ).images[0]\n",
    "        edit_images.append(edit_image)\n",
    "        per_timestep_attn_maps.append(\n",
    "            get_attn_map(edit_prompt, pipe_inference.tokenizer)\n",
    "        )\n",
    "        reset_attn_maps()\n",
    "\n",
    "    return edit_images, per_timestep_attn_maps"
   ]
  },
  {
   "cell_type": "code",
   "execution_count": 15,
   "metadata": {},
   "outputs": [],
   "source": [
    "edit_prompts = inversion_prompts"
   ]
  },
  {
   "cell_type": "code",
   "execution_count": 18,
   "metadata": {},
   "outputs": [
    {
     "name": "stderr",
     "output_type": "stream",
     "text": [
      "  0%|          | 0/4 [00:00<?, ?it/s]"
     ]
    },
    {
     "name": "stderr",
     "output_type": "stream",
     "text": [
      "100%|██████████| 4/4 [00:00<00:00, 11.31it/s]\n",
      "100%|██████████| 4/4 [00:00<00:00, 11.78it/s]\n",
      "100%|██████████| 4/4 [00:00<00:00, 11.81it/s]\n",
      "100%|██████████| 4/4 [00:00<00:00, 11.83it/s]\n",
      "100%|██████████| 4/4 [00:00<00:00, 11.76it/s]\n",
      "100%|██████████| 4/4 [00:00<00:00, 11.74it/s]\n",
      "100%|██████████| 4/4 [00:00<00:00, 11.70it/s]\n",
      "100%|██████████| 4/4 [00:00<00:00, 11.67it/s]\n",
      "100%|██████████| 4/4 [00:00<00:00, 11.65it/s]\n",
      "100%|██████████| 4/4 [00:00<00:00, 11.76it/s]\n",
      "100%|██████████| 4/4 [00:00<00:00, 11.79it/s]\n",
      "100%|██████████| 4/4 [00:00<00:00, 11.73it/s]\n",
      "100%|██████████| 4/4 [00:00<00:00, 11.65it/s]\n",
      "100%|██████████| 4/4 [00:00<00:00, 11.77it/s]\n",
      "100%|██████████| 4/4 [00:00<00:00, 11.36it/s]\n",
      "100%|██████████| 4/4 [00:00<00:00, 11.64it/s]\n"
     ]
    }
   ],
   "source": [
    "edit_images, per_timestep_attn_maps = get_edit_images_and_attn_maps(\n",
    "    inv_latents, noises, inversion_prompts, edit_prompts\n",
    ")"
   ]
  },
  {
   "cell_type": "code",
   "execution_count": null,
   "metadata": {},
   "outputs": [],
   "source": [
    "image_grid_arr = []\n",
    "for bg_image, edit_image, sample_attn_maps in zip(\n",
    "    bg_images, edit_images, per_timestep_attn_maps\n",
    "):\n",
    "    image_grid_arr.append(bg_image)\n",
    "    # image_grid_arr.append(edit_image)\n",
    "    # for attn_map in sample_attn_maps:\n",
    "    #     image_grid_arr.append(attn_map)\n",
    "    image_grid_arr.append(sample_attn_maps[-1])"
   ]
  },
  {
   "cell_type": "code",
   "execution_count": 23,
   "metadata": {},
   "outputs": [],
   "source": [
    "# attn_maps_images = [\n",
    "#     Image.fromarray((attn_map.cpu().numpy() * 255))\n",
    "#     for attn_map in per_timestep_attn_maps\n",
    "# ]"
   ]
  },
  {
   "cell_type": "code",
   "execution_count": null,
   "metadata": {},
   "outputs": [],
   "source": [
    "# make_image_grid(image_grid_arr, len(bg_images), 2)\n",
    "make_image_grid(attn_maps_images, len(attn_maps_images), 1)\n",
    "# make_image_grid(image_grid_arr, len(bg_images), 2 + len(per_timestep_attn_maps[0]))"
   ]
  },
  {
   "cell_type": "code",
   "execution_count": null,
   "metadata": {},
   "outputs": [],
   "source": [
    "# for i, attn_maps in enumerate(per_timestep_attn_maps):\n",
    "#     attn_maps[-1].save(f\"attn_maps/{i}.jpg\")"
   ]
  },
  {
   "cell_type": "code",
   "execution_count": 33,
   "metadata": {},
   "outputs": [],
   "source": [
    "a = per_timestep_attn_maps[2].cpu().numpy()"
   ]
  },
  {
   "cell_type": "code",
   "execution_count": 34,
   "metadata": {},
   "outputs": [
    {
     "data": {
      "image/png": "[encoded data removed]",
      "text/plain": [
       "<Figure size 640x480 with 1 Axes>"
      ]
     },
     "metadata": {},
     "output_type": "display_data"
    }
   ],
   "source": [
    "import matplotlib.pyplot as plt\n",
    "\n",
    "plt.imshow(a, cmap=\"hot\", interpolation=\"nearest\")\n",
    "plt.show()"
   ]
  },
  {
   "cell_type": "code",
   "execution_count": 35,
   "metadata": {},
   "outputs": [
    {
     "data": {
      "text/plain": [
       "(0.072, 0.1198)"
      ]
     },
     "execution_count": 35,
     "metadata": {},
     "output_type": "execute_result"
    }
   ],
   "source": [
    "a.min(), a.max()"
   ]
  },
  {
   "cell_type": "code",
   "execution_count": null,
   "metadata": {},
   "outputs": [],
   "source": []
  }
 ],
 "metadata": {
  "kernelspec": {
   "display_name": "Python 3 (ipykernel)",
   "language": "python",
   "name": "python3"
  },
  "language_info": {
   "codemirror_mode": {
    "name": "ipython",
    "version": 3
   },
   "file_extension": ".py",
   "mimetype": "text/x-python",
   "name": "python",
   "nbconvert_exporter": "python",
   "pygments_lexer": "ipython3",
   "version": "3.10.14"
  }
 },
 "nbformat": 4,
 "nbformat_minor": 4
}
